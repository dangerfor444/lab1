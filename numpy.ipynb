{
  "cells": [
    {
      "cell_type": "markdown",
      "metadata": {
        "id": "vC84e9kzyxPy"
      },
      "source": [
        "<h1>Импорт библиотек"
      ]
    },
    {
      "cell_type": "code",
      "execution_count": 3,
      "metadata": {
        "id": "cgKeNegmQG5S"
      },
      "outputs": [],
      "source": [
        "import numpy as np\n",
        "import matplotlib.pyplot as plt"
      ]
    },
    {
      "cell_type": "markdown",
      "metadata": {
        "id": "qFM9uVU2x4Ls"
      },
      "source": [
        "<h1>Задача 1. Дан набор из $p$ матриц размерностью $(n, n)$ и $p$ векторов размерностью $(n, 1)$, найти сумму произведений матриц на векторы. Написать тесты для кода"
      ]
    },
    {
      "cell_type": "code",
      "execution_count": null,
      "metadata": {
        "id": "IAbUvEiYyWFF"
      },
      "outputs": [],
      "source": [
        "import numpy as np\n",
        "\n",
        "def sum_matrix_vector_products(matrices, vectors):\n",
        "    if len(matrices) != len(vectors):\n",
        "        raise ValueError(\"Число матриц должно быть равно числу векторов\")\n",
        "\n",
        "    result = np.zeros_like(vectors[0])\n",
        "    for i in range(len(matrices)):\n",
        "        result += np.dot(matrices[i], vectors[i])\n",
        "\n",
        "    return result\n",
        "\n",
        "# Подготовим тестовые данные\n",
        "n = 3  # Размерность матриц и векторов\n",
        "p = 2  # Количество матриц и векторов\n",
        "\n",
        "matrices = [np.array([[1, 2, 3], [4, 5, 6], [7, 8, 9]]), np.array([[9, 8, 7], [6, 5, 4], [3, 2, 1]])]\n",
        "vectors = [np.array([[1], [2], [3]]), np.array([[0], [1], [0]])]\n",
        "\n",
        "# Вычислим сумму произведений\n",
        "result = sum_matrix_vector_products(matrices, vectors)\n",
        "\n",
        "# Ожидаемый результат\n",
        "expected_result = np.array([[30], [36], [42]])\n",
        "\n",
        "# Проверим, совпадает ли результат с ожидаемым\n",
        "assert np.array_equal(result, expected_result), \"Результат не соответствует ожиданиям\"\n",
        "\n"
      ]
    },
    {
      "cell_type": "markdown",
      "metadata": {
        "id": "TKwPG4fIy2w4"
      },
      "source": [
        "<h1>Задача 2. Дана матрица M, напишите функцию, которая бинаризует матрицу по некоторому threshold (то есть, все значения большие threshold становятся равными 1, иначе 0). Напишите тесты для кода"
      ]
    },
    {
      "cell_type": "code",
      "execution_count": null,
      "metadata": {
        "id": "KQDNMgsjRNH7"
      },
      "outputs": [],
      "source": [
        "def binarize(M, threshold=0.5):\n",
        "    binary_matrix = np.where(M > threshold, 1, 0)\n",
        "    return binary_matrix\n",
        "\n",
        "\n",
        "matrix = [\n",
        "    [0.2, 0.7, 0.9],\n",
        "    [0.5, 0.3, 0.8],\n",
        "    [0.1, 0.6, 0.4]\n",
        "]\n",
        "threshold = 0.5\n",
        "\n",
        "binary_result = binarize(matrix, threshold)\n",
        "for row in binary_result:\n",
        "    print(row)"
      ]
    },
    {
      "cell_type": "markdown",
      "metadata": {
        "id": "IY5L-h-7zWhN"
      },
      "source": [
        "<h1>Задача 3. Напишите функцию, которая возвращает уникальные элементы из каждой строки матрицы. Напишите такую же функцию, но для столбцов. Напишите тесты для кода"
      ]
    },
    {
      "cell_type": "code",
      "execution_count": null,
      "metadata": {
        "id": "-8dEZhR0SBC-"
      },
      "outputs": [],
      "source": [
        "def unique_rows(mat):\n",
        "    unique_rows = []\n",
        "    for row in mat:\n",
        "        unique_rows.append(list(set(row)))\n",
        "    return unique_rows\n",
        "\n",
        "def unique_columns(mat):\n",
        "    num_rows = len(mat)\n",
        "    num_cols = len(mat[0])\n",
        "    unique_cols = [[] for _ in range(num_cols)]\n",
        "\n",
        "    for i in range(num_cols):\n",
        "        column = [mat[j][i] for j in range(num_rows)]\n",
        "        unique_cols[i] = list(set(column))\n",
        "\n",
        "    return unique_cols\n",
        "\n",
        "matrix_rows = [\n",
        "    [1, 2, 2, 3],\n",
        "    [4, 5, 6, 6],\n",
        "    [7, 8, 9, 9]\n",
        "]\n",
        "\n",
        "print(unique_rows(matrix_rows))\n",
        "\n",
        "matrix_columns = [\n",
        "    [1, 4, 7],\n",
        "    [2, 5, 8],\n",
        "    [2, 6, 9],\n",
        "    [3, 6, 9]\n",
        "]\n",
        "\n",
        "print(unique_columns(matrix_columns))"
      ]
    },
    {
      "cell_type": "markdown",
      "metadata": {
        "id": "roYAlo4Jz-lH"
      },
      "source": [
        "<h1>Задача 4. Напишите функцию, которая заполняет матрицу с размерами $(m, n)$ случайными числами, распределенными по нормальному закону. Затем считает мат. ожидание и дисперсию для каждого из столбцов и строк, а также строит для каждой строки и столбца гистограмму значений (использовать функцию hist из модуля matplotlib.plot)"
      ]
    },
    {
      "cell_type": "code",
      "execution_count": null,
      "metadata": {
        "id": "nZK_71hMSQzv"
      },
      "outputs": [],
      "source": [
        "import numpy as np\n",
        "import matplotlib.pyplot as plt\n",
        "\n",
        "def generate_and_analyze_matrix(m, n):\n",
        "    # Генерация случайной матрицы с нормальным распределением\n",
        "    matrix = np.random.randn(m, n)\n",
        "\n",
        "    # Вычисление математического ожидания и дисперсии для строк и столбцов\n",
        "    row_means = np.mean(matrix, axis=1)\n",
        "    col_means = np.mean(matrix, axis=0)\n",
        "    row_vars = np.var(matrix, axis=1)\n",
        "    col_vars = np.var(matrix, axis=0)\n",
        "\n",
        "    # Построение гистограмм для строк и столбцов\n",
        "    for i in range(m):\n",
        "        plt.figure(figsize=(10, 4))\n",
        "        plt.subplot(1, 2, 1)\n",
        "        plt.hist(matrix[i, :], bins=20, alpha=0.5, color='b', edgecolor='black')\n",
        "        plt.title(f'Гистограмма значений в строке {i+1}')\n",
        "        plt.subplot(1, 2, 2)\n",
        "        plt.hist(matrix[:, i], bins=20, alpha=0.5, color='r', edgecolor='black')\n",
        "        plt.title(f'Гистограмма значений в столбце {i+1}')\n",
        "        plt.show()\n",
        "\n",
        "    return row_means, col_means, row_vars, col_vars\n",
        "\n",
        "# Тесты\n",
        "m = 5  # Количество строк\n",
        "n = 4  # Количество столбцов\n",
        "\n",
        "row_means, col_means, row_vars, col_vars = generate_and_analyze_matrix(m, n)\n",
        "\n",
        "print(\"Математические ожидания для строк:\")\n",
        "print(row_means)\n",
        "print(\"Математические ожидания для столбцов:\")\n",
        "print(col_means)\n",
        "print(\"Дисперсии для строк:\")\n",
        "print(row_vars)\n",
        "print(\"Дисперсии для столбцов:\")\n",
        "print(col_vars)"
      ]
    },
    {
      "cell_type": "markdown",
      "metadata": {
        "id": "BDyATNdM0dJ2"
      },
      "source": [
        "<h1>Задача 5. Напишите функцию, которая заполняет матрицу $(m, n)$ в шахматном порядке заданными числами $a$ и $b$. Напишите тесты для кода"
      ]
    },
    {
      "cell_type": "code",
      "execution_count": null,
      "metadata": {
        "id": "RWNJYWQGecS6"
      },
      "outputs": [],
      "source": [
        "def chess(m, n, a, b):\n",
        "    matrix = [[0 for _ in range(n)] for _ in range(m)]\n",
        "\n",
        "    for i in range(m):\n",
        "        for j in range(n):\n",
        "            if (i + j) % 2 == 0:\n",
        "                matrix[i][j] = a\n",
        "            else:\n",
        "                matrix[i][j] = b\n",
        "\n",
        "    return matrix\n",
        "\n",
        "# Тесты\n",
        "m = 4\n",
        "n = 4\n",
        "a = 1\n",
        "b = 2\n",
        "\n",
        "chessboard = chess(m, n, a, b)\n",
        "for row in chessboard:\n",
        "    print(row)\n"
      ]
    },
    {
      "cell_type": "markdown",
      "metadata": {
        "id": "-ymXLtTN0vB6"
      },
      "source": [
        "<h1>Задача 6. Напишите функцию, которая отрисовывает прямоугольник с заданными размерами (a, b) на изображении размера (m, n), цвет фона задайте в схеме RGB, как и цвет прямоугольника. Цвета также должны быть параметрами функции. Напишите аналогичную функцию но для овала с полуосями a и b. Напишите тесты для кода.\n",
        "Примечание: уравнение эллипса (границы овала) можно записать как:\n",
        "<h1>$\\frac{(x-x_0)^2}{a^2}+\\frac{(y-y_0)^2}{b^2}=1$"
      ]
    },
    {
      "cell_type": "code",
      "execution_count": 1,
      "metadata": {
        "id": "sNfl1t_kfOF4"
      },
      "outputs": [],
      "source": [
        "from PIL import Image, ImageDraw\n",
        "\n",
        "def draw_rectangle(a, b, m, n, rectangle_color, background_color):\n",
        "    # Создаем изображение с заданными размерами и задним фоном\n",
        "    img = Image.new(\"RGB\", (a, b), background_color)\n",
        "    draw = ImageDraw.Draw(img)\n",
        "\n",
        "    # Рисуем прямоугольник\n",
        "    draw.rectangle([0, 0, m, n], fill=rectangle_color)\n",
        "\n",
        "    return img\n",
        "\n",
        "def draw_ellipse(a, b, m, n, ellipse_color, background_color):\n",
        "   # Создаем изображение с заданными размерами и задним фоном\n",
        "    img = Image.new(\"RGB\", (a, b), background_color)\n",
        "    draw = ImageDraw.Draw(img)\n",
        "\n",
        "    # Рисуем овал\n",
        "    left = (a - 2 * m) / 2\n",
        "    top = (b - 2 * n) / 2\n",
        "    right = left + 2 * m\n",
        "    bottom = top + 2 * n\n",
        "    draw.ellipse([left, top, right, bottom], fill=ellipse_color)\n",
        "\n",
        "    return img"
      ]
    },
    {
      "cell_type": "markdown",
      "metadata": {
        "id": "S82c38oz244H"
      },
      "source": [
        "<h1>Задача 7. Дан некий временной ряд. Для данного ряда нужно найти его: математическое ожидание, дисперсию, СКО, найти все локальные максимумы и минимумы (локальный максимум - это точка, которая больше своих соседних точек, а локальный минимум - это точка, которая меньше своих соседей), а также вычислить для данного ряда другой ряд, получаемый методом скользящего среднего с размером окна $p$.\n",
        "<h1>Примечание: метод скользящего среднего подразумевает нахождение среднего из подмножетсва ряда размером $p$"
      ]
    },
    {
      "cell_type": "code",
      "execution_count": null,
      "metadata": {
        "id": "Zb9mIVge5MMt"
      },
      "outputs": [],
      "source": [
        "import numpy as np\n",
        "import matplotlib.pyplot as plt\n",
        "\n",
        "def analyze_time_series(time_series, window_size):\n",
        "    # Вычисление математического ожидания и дисперсии\n",
        "    mean = np.mean(time_series)\n",
        "    variance = np.var(time_series)\n",
        "    std_deviation = np.sqrt(variance)  # СКО\n",
        "\n",
        "    # Нахождение локальных максимумов и минимумов\n",
        "    local_maxima = []\n",
        "    local_minima = []\n",
        "    for i in range(1, len(time_series) - 1):\n",
        "        if time_series[i] > time_series[i - 1] and time_series[i] > time_series[i + 1]:\n",
        "            local_maxima.append((i, time_series[i]))\n",
        "        elif time_series[i] < time_series[i - 1] and time_series[i] < time_series[i + 1]:\n",
        "            local_minima.append((i, time_series[i]))\n",
        "\n",
        "    # Вычисление скользящего среднего\n",
        "    smoothed_series = np.convolve(time_series, np.ones(window_size)/window_size, mode='valid')\n",
        "\n",
        "    return mean, variance, std_deviation, local_maxima, local_minima, smoothed_series\n",
        "\n",
        "# Пример временного ряда\n",
        "time_series = np.array([1, 2, 1, 3, 2, 5, 4, 6, 3, 2])\n",
        "window_size = 3  # Размер окна для скользящего среднего\n",
        "\n",
        "mean, variance, std_deviation, local_maxima, local_minima, smoothed_series = analyze_time_series(time_series, window_size)\n",
        "\n",
        "print(\"Математическое ожидание:\", mean)\n",
        "print(\"Дисперсия:\", variance)\n",
        "print(\"СКО:\", std_deviation)\n",
        "print(\"Локальные максимумы:\", local_maxima)\n",
        "print(\"Локальные минимумы:\", local_minima)\n",
        "print(\"Скользящее среднее:\", smoothed_series)"
      ]
    },
    {
      "cell_type": "markdown",
      "metadata": {
        "id": "jPkylmOX5O9n"
      },
      "source": [
        "<h1> Задача 8. Дан некоторый вектор с целочисленными метками классов, напишите функцию, которая выполняет one-hot-encoding для данного вектора\n",
        "<h1> One-hot-encoding - представление, в котором на месте метки некоторого класса стоит 1, в остальных позициях стоит 0. Например для вектора [0, 2, 3, 0] one-hot-encoding выглядит как: [[1, 0, 0, 0], [0, 0, 1, 0], [0, 0, 0, 1], [1, 0, 0, 0]]"
      ]
    },
    {
      "cell_type": "code",
      "execution_count": null,
      "metadata": {
        "id": "Y-jlnZvw56lD"
      },
      "outputs": [],
      "source": [
        "import numpy as np\n",
        "\n",
        "def one_hot_encoding(labels, num_classes):\n",
        "    # Создаем матрицу нулей размером (количество меток, количество классов)\n",
        "    encoding = np.zeros((len(labels), num_classes), dtype=int)\n",
        "\n",
        "    # Заполняем one-hot-encoding\n",
        "    for i, label in enumerate(labels):\n",
        "        encoding[i, label] = 1\n",
        "\n",
        "    return encoding\n",
        "\n",
        "# Пример использования\n",
        "labels = [0, 2, 3, 0]\n",
        "num_classes = 4\n",
        "\n",
        "one_hot_encoded = one_hot_encoding(labels, num_classes)\n",
        "print(one_hot_encoded)"
      ]
    }
  ],
  "metadata": {
    "colab": {
      "provenance": []
    },
    "kernelspec": {
      "display_name": "Python 3",
      "name": "python3"
    },
    "language_info": {
      "name": "python"
    }
  },
  "nbformat": 4,
  "nbformat_minor": 0
}
