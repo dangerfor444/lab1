{
  "cells": [
    {
      "cell_type": "markdown",
      "metadata": {
        "id": "M-DGa20PaHnu"
      },
      "source": [
        "#Задача 1\n",
        "Написать функцию на вход которой подается строка, состоящая из латинских букв.\n",
        "Функция должна вернуть количество гласных букв (a, e, i, o, u) в этой строке. Написать тесты для кода"
      ]
    },
    {
      "cell_type": "code",
      "execution_count": 1,
      "metadata": {
        "id": "XvX8X_JJ6PCb"
      },
      "outputs": [],
      "source": [
        "\n",
        "def count_vowels(string):\n",
        "  vowels = \"aeiou\"\n",
        "  count = 0\n",
        "  for char in string:\n",
        "    if char in vowels:\n",
        "      count+=1\n",
        "  return count\n",
        "\n",
        "def test_count_vowels():\n",
        "    assert count_vowels(\"Hello\") == 2\n",
        "    assert count_vowels(\"Maksim\") == 2\n",
        "    assert count_vowels(\"Hello World\") == 3\n",
        "    assert count_vowels(\"\") == 0"
      ]
    },
    {
      "cell_type": "markdown",
      "metadata": {
        "id": "t2ClV_Y0bbr6"
      },
      "source": [
        "# Задача 2\n",
        "Написать функцию на вход, которой подается строка. Функция должна вернуть true, если\n",
        "каждый символ в строке встречается только 1 раз, иначе должна вернуть false. Написать тесты для кода"
      ]
    },
    {
      "cell_type": "code",
      "execution_count": null,
      "metadata": {
        "id": "FppbECao6VIz"
      },
      "outputs": [],
      "source": [
        "def one_symbol(string):\n",
        "  one_chars = set()\n",
        "  for char in  string:\n",
        "    if char in one_chars:\n",
        "      return False\n",
        "    else:\n",
        "      one_chars.add(char)\n",
        "  return True\n",
        "\n",
        "def test_one_symbol():\n",
        "    assert one_symbol(\"qwert\") == True\n",
        "    assert one_symbol(\"maksim\") == False\n",
        "    assert one_symbol(\"qwerrr\") == False\n",
        "    assert one_symbol(\"qwer\") == True"
      ]
    },
    {
      "cell_type": "markdown",
      "metadata": {
        "id": "udRiIK1cdt6E"
      },
      "source": [
        "# Задача 3\n",
        "Написать функцию, которая принимает положительное число и возвращает количество\n",
        "бит равных 1 в этом числе. Написать тесты для кода"
      ]
    },
    {
      "cell_type": "code",
      "execution_count": null,
      "metadata": {
        "id": "6tkfDJRz6dp_"
      },
      "outputs": [],
      "source": [
        "def count_bit(number):\n",
        "  count = 0\n",
        "  string  = bin(number)\n",
        "  for char in string:\n",
        "    if char == \"1\":\n",
        "      count+=1\n",
        "  return count\n",
        "\n",
        "def test_count_bit():\n",
        "  assert one_symbol(123) == 6\n",
        "  assert one_symbol(10) == 2\n",
        "  assert one_symbol(234) == 5\n",
        "  assert one_symbol(4124142) == 17\n",
        "\n"
      ]
    },
    {
      "cell_type": "markdown",
      "metadata": {
        "id": "26dDUz-Ae17N"
      },
      "source": [
        "# Задача 4\n",
        "Написать функцию, которая принимает положительное число. Функция должна вернуть то,\n",
        "сколько раз необходимо перемножать цифры числа или результат перемножения, чтобы\n",
        "получилось число состоящее из одной цифры.\n",
        "Например, для входного числа:\n",
        "· 39 функция должна вернуть 3, так как 3*9=27 => 2*7=14 => 1*4=4\n",
        "· 4 функция должна вернуть 0, так как число уже состоит из одной цифры\n",
        "· 999 функция должна вернуть 4, так как 9*9*9=729 => 7*2*9=126 => 1*2*6=12 =>\n",
        "1*2=2. Написать тесты для кода"
      ]
    },
    {
      "cell_type": "code",
      "execution_count": null,
      "metadata": {
        "id": "BH1A_Mgi6i4G"
      },
      "outputs": [],
      "source": [
        "def multiplier(number):\n",
        "    if number < 10:\n",
        "        return 0\n",
        "    else:\n",
        "        count = 0\n",
        "        while number >= 10:\n",
        "            current = 1\n",
        "            while number > 0:\n",
        "                current *= number % 10\n",
        "                number //= 10\n",
        "            number = current\n",
        "            count += 1\n",
        "        return count\n",
        "    \n",
        "def test_multiplier():\n",
        "    assert multiplier(39) == 3\n",
        "    assert multiplier(4) == 0\n",
        "    assert multiplier(999) == 4\n",
        "\n"
      ]
    },
    {
      "cell_type": "markdown",
      "metadata": {
        "id": "0nS-kIa8g8vd"
      },
      "source": [
        "# Задача 5\n",
        "Написать функцию, которая принимает два целочисленных вектора одинаковой длины и\n",
        "возвращает среднеквадратическое отклонение двух векторов. Написать тесты для кода"
      ]
    },
    {
      "cell_type": "code",
      "execution_count": null,
      "metadata": {
        "id": "8iphx4LM6xbx"
      },
      "outputs": [],
      "source": [
        "import math\n",
        "\n",
        "def standardDeviation(vector1, vector2):\n",
        "    if len(vector1) != len(vector2):\n",
        "        raise ValueError(\"Ошибка, векторы должны быть одинаковой длины\")\n",
        "    \n",
        "    lengthVector1 = len(vector1)\n",
        "    \n",
        "    # Вычисляем сумму квадратов разностей элементов векторов\n",
        "    squared_sum = sum((vector1[i] - vector2[i]) ** 2 for i in range(lengthVector1))\n",
        "    \n",
        "    # Вычисляем среднее арифметическое этой суммы\n",
        "    mean_squared = squared_sum / lengthVector1\n",
        "    \n",
        "    # Стандартное отклонение - квадратный корень из среднего квадрата разностей\n",
        "    standard_deviation = math.sqrt(mean_squared)\n",
        "    \n",
        "    return standard_deviation\n",
        "\n",
        "# Тесты\n",
        "vector1 = [1, 2, 3, 4, 5]\n",
        "vector2 = [2, 3, 4, 5, 6]\n",
        "print(standardDeviation(vector1, vector2))  \n",
        "\n",
        "def test_standardDeviation():\n",
        "    assert standardDeviation(vector1=[1, 2, 3, 4, 5], vector2 = [2, 3, 4, 5, 6]) == 1.0\n"
      ]
    },
    {
      "cell_type": "markdown",
      "metadata": {
        "id": "vpIPKL439zkw"
      },
      "source": [
        "# Задача 6\n",
        "Написать функцию, принимающая целое положительное число. Функция должна вернуть\n",
        "строку вида “(n1**p1)(n2**p2)…(nk**pk)” представляющая разложение числа на простые\n",
        "множители (если pi == 1, то выводить только ni).\n",
        "Например, для числа 86240 функция должна вернуть “(2**5)(5)(7**2)(11)”. Написать тесты для кода"
      ]
    },
    {
      "cell_type": "code",
      "execution_count": null,
      "metadata": {
        "id": "pFebmcZk94Jw"
      },
      "outputs": [],
      "source": [
        "def prime_factors(n):\n",
        "    result = \"\"\n",
        "    i = 2\n",
        "    while i <= n:\n",
        "        count = 0\n",
        "        while n % i == 0:\n",
        "            count += 1\n",
        "            n /= i\n",
        "        if count > 0:\n",
        "            if count == 1:\n",
        "                result += f\"({i})\"\n",
        "            else:\n",
        "                result += f\"({i}**{count})\"\n",
        "        i += 1\n",
        "    return result\n",
        "\n",
        "# Тесты\n",
        "assert prime_factors(86240) == \"(2**5)(5)(7**2)(11)\"\n",
        "assert prime_factors(12) == \"(2**2)(3)\"\n",
        "assert prime_factors(37) == \"(37)\"\n",
        "assert prime_factors(69) == \"(3)(23)\"\n",
        "assert prime_factors(100) == \"(2**2)(5**2)\""
      ]
    },
    {
      "cell_type": "markdown",
      "metadata": {
        "id": "ps2s0BudX7A2"
      },
      "source": [
        "# Задача 7\n",
        "Написать функцию, принимающая целое число n, задающее количество кубиков. Функция\n",
        "должна определить, можно ли из данного кол-ва кубиков построить пирамиду, то есть\n",
        "можно ли представить число n как 1^2+2^2+3^2+…+k^2. Если можно, то функция должна\n",
        "вернуть k, иначе строку “It is impossible”. Написать тесты для кода"
      ]
    },
    {
      "cell_type": "code",
      "execution_count": null,
      "metadata": {
        "id": "3YPjEXxhX_YT"
      },
      "outputs": [],
      "source": [
        "import math\n",
        "\n",
        "def build_pyramid(n):\n",
        "    k = int(math.sqrt(2 * n + 1/4) - 1/2)\n",
        "    if k * (k + 1) / 2 == n:\n",
        "        return k\n",
        "    else:\n",
        "        return \"It is impossible\"\n",
        "\n",
        "# Примеры тестов\n",
        "print(build_pyramid(1)) # Ожидаемый результат: 1\n",
        "print(build_pyramid(5)) # Ожидаемый результат: 2\n",
        "print(build_pyramid(15)) # Ожидаемый результат: 4\n",
        "print(build_pyramid(10)) # Ожидаемый результат: \"It is impossible\""
      ]
    },
    {
      "cell_type": "markdown",
      "metadata": {
        "id": "KeKgmIdAQMEJ"
      },
      "source": [
        "# Задача 8\n",
        "Функция принимает на вход положительное число и определяет является ли оно сбалансированным, т.е. сумма цифр до средних равна сумме цифр после. Средними в случае нечетного числа цифр считать одну цифру, в случае четного - две средних. Написать тесты для кода"
      ]
    },
    {
      "cell_type": "code",
      "execution_count": null,
      "metadata": {
        "id": "gMAAqtqlQrZt"
      },
      "outputs": [],
      "source": [
        "def is_balanced(num):\n",
        "    # Преобразуем число в строку\n",
        "    num_str = str(num)\n",
        "    \n",
        "    # Подсчитываем количество цифр\n",
        "    length = len(num_str)\n",
        "    \n",
        "    # Если количество цифр нечетное\n",
        "    if length % 2 == 1:\n",
        "        # Получаем индекс средней цифры\n",
        "        mid_index = length // 2\n",
        "        # Получаем сумму цифр до средней цифры и после нее\n",
        "        sum_before = sum(map(int, num_str[:mid_index]))\n",
        "        sum_after = sum(map(int, num_str[mid_index+1:]))\n",
        "    # Если количество цифр четное\n",
        "    else:\n",
        "        # Получаем индексы двух средних цифр\n",
        "        mid_index1 = length // 2 - 1\n",
        "        mid_index2 = length // 2\n",
        "        # Получаем сумму цифр до первой средней цифры, между двумя средними цифрами и после второй средней цифры\n",
        "        sum_before = sum(map(int, num_str[:mid_index1]))\n",
        "        sum_between = sum(map(int, num_str[mid_index1+1:mid_index2]))\n",
        "        sum_after = sum(map(int, num_str[mid_index2+1:]))\n",
        "    \n",
        "    # Проверяем равенство сумм цифр до и после средней\n",
        "    if sum_before == sum_after:\n",
        "        return True\n",
        "    else:\n",
        "        return False\n",
        "    \n",
        "\n",
        "def test_is_balanced():\n",
        "    assert is_balanced(12321) == True\n",
        "    assert is_balanced(12345) == False\n",
        "    assert is_balanced(123456) == True\n",
        "    assert is_balanced(1234567) == False\n",
        "    assert is_balanced(12345678) == False\n",
        "    assert is_balanced(123456789) == True"
      ]
    }
  ],
  "metadata": {
    "colab": {
      "provenance": []
    },
    "kernelspec": {
      "display_name": "Python 3",
      "name": "python3"
    },
    "language_info": {
      "codemirror_mode": {
        "name": "ipython",
        "version": 3
      },
      "file_extension": ".py",
      "mimetype": "text/x-python",
      "name": "python",
      "nbconvert_exporter": "python",
      "pygments_lexer": "ipython3",
      "version": "3.9.7"
    }
  },
  "nbformat": 4,
  "nbformat_minor": 0
}
